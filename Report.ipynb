{
 "cells": [
  {
   "cell_type": "markdown",
   "metadata": {},
   "source": [
    "# Introduction\n",
    "\n",
    "The types of venues in a neighborhood define it's character. The coffee shops, supermarkets, dog runs, and yoga studios give form and structure to the community they support. It's no surprise that data about venues is considered critical for people that are relocating. Even a perfectly matched neighborhood has pitfalls when it comes to finding neighborhood bliss. One such pitfall is walkability. It's not enough to live near interesting venues if you cannot easily travel to them. That's why this project will create a service that reccomends neighborhoods on both their venue character, and their walkability."
   ]
  },
  {
   "cell_type": "markdown",
   "metadata": {},
   "source": [
    "# Data\n",
    "\n",
    "This project will utilize foursqaure's apis to capture the character of each neighborhood in The United State's 100 most populated cities. This will be combined with walkability scores provided by the Environmental Protection Agency through REST apos describes [here](https://geodata.epa.gov/arcgis/rest/services/OA/WalkabilityIndex/MapServer)."
   ]
  },
  {
   "cell_type": "code",
   "execution_count": null,
   "metadata": {},
   "outputs": [],
   "source": []
  }
 ],
 "metadata": {
  "kernelspec": {
   "display_name": "Python 3",
   "language": "python",
   "name": "python3"
  },
  "language_info": {
   "codemirror_mode": {
    "name": "ipython",
    "version": 3
   },
   "file_extension": ".py",
   "mimetype": "text/x-python",
   "name": "python",
   "nbconvert_exporter": "python",
   "pygments_lexer": "ipython3",
   "version": "3.7.0"
  }
 },
 "nbformat": 4,
 "nbformat_minor": 2
}
