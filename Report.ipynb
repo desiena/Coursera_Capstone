{
 "cells": [
  {
   "cell_type": "markdown",
   "metadata": {},
   "source": [
    "# Introduction\n",
    "\n",
    "The types of venues in a neighborhood define it's character. The coffee shops, supermarkets, dog runs, and yoga studios give form and structure to the community they support. It's no surprise that data about venues is considered critical for people that are relocating. By combining Zillow's list of neighborhoods with Foursquare's venue data, this project will seek to cluster all US neighborhoods into groups that can aid people seeking to relocate from one neighborhood to another, anywhere in the United States."
   ]
  },
  {
   "cell_type": "markdown",
   "metadata": {},
   "source": [
    "# Data\n",
    "\n",
    "This project will utilize foursquare's apis to find lists of venues based on latitude and longitude. Each venue entity includes a location and a venue category (e.g. coffee shop). It will also use a list of neighborhoods provided by Zillow. Each neighborhood includes a name, and a list of points corresponding to the area of the neighborhood."
   ]
  },
  {
   "cell_type": "markdown",
   "metadata": {},
   "source": [
    "# Methodology \n",
    "\n",
    "The neighborhoods provided by Zillow have a polygon that represents the borders of the neighborhood. In order to call the foursquare APIs, a center point and a radius need to be computed. The center was computed by using the average coordinates from that neighborhoods polygon. The radius was determined by multiplying the area of the polygon by a coefficient that was determined by plotting the neighborhood's as circles on a folium map and finding a size that had minimal overlap without leaving excess gaps between neighborhoods.\n",
    "\n",
    "Neighborhoods which have no corresponding venues were dropped from the dataset. 595 different types of venue were identified. Each neighborhood was assigned a vector wherein each number corresponded to a different type of venue. The value of the number corresponded to the portion of venues in that neighborhood which were of that specific venue type. Each venue type column was then mean-normalized.\n",
    "\n",
    "A k-means clustering algorithm was applied to this data using a k of 5. The results were then plotted on a folium map for visualization."
   ]
  },
  {
   "cell_type": "markdown",
   "metadata": {},
   "source": [
    "# Results\n",
    "\n",
    "The clusters that resulted each contained between 1 and 3,218. The within-group standard deviations of of the neighborhoods in each group were generally less than the overall standard deviation of 1. This suggests that the groups were distinct from one another, although a more statistically rigorous test such as an analysis of variance would be required to show statistic significance."
   ]
  },
  {
   "cell_type": "markdown",
   "metadata": {},
   "source": [
    "# Discussion\n",
    "\n",
    "When looking at the results plotted over a large city, it's clear that some areas all belong to the same cluster. These larger areas, with multiple neighborhoods inside, seem to form larger regions where neighborhoods share basic characteristics. I believe this shows that the clustering was a success, and that this tool could prove insighful for people looking to relocate.\n",
    "\n",
    "Further work might explore how other variables such as walkability, air quality, and affordability could affect the clustering. As another improvement, hyperparameter tuning could find a better k value to minimize within group variability.\n",
    "\n",
    "Other important work that could improve this tool would be to evaluate the potential bias of the trained model. The data could potentially encode racial and economic biases that exist in the foursquare dataset or in the real world behavior of people and businesses. It would be important to evaluate this potential before releasing a product based on these findings."
   ]
  },
  {
   "cell_type": "markdown",
   "metadata": {},
   "source": [
    "# Conclusion\n",
    "\n",
    "Given the importance of local businesses in defining local character, a tool which could learn from local venues to cluster them together would be very useful for people looking for new neighborhoods. Although this project is only a first attempt at providing a solution to this problem, it uses machine learning to be a powerful first step toward a solution."
   ]
  },
  {
   "cell_type": "code",
   "execution_count": null,
   "metadata": {},
   "outputs": [],
   "source": []
  }
 ],
 "metadata": {
  "kernelspec": {
   "display_name": "Python 3",
   "language": "python",
   "name": "python3"
  },
  "language_info": {
   "codemirror_mode": {
    "name": "ipython",
    "version": 3
   },
   "file_extension": ".py",
   "mimetype": "text/x-python",
   "name": "python",
   "nbconvert_exporter": "python",
   "pygments_lexer": "ipython3",
   "version": "3.7.0"
  }
 },
 "nbformat": 4,
 "nbformat_minor": 2
}
